{
 "cells": [
  {
   "cell_type": "markdown",
   "metadata": {},
   "source": [
    "# Keras Tutorial"
   ]
  },
  {
   "cell_type": "markdown",
   "metadata": {},
   "source": [
    "Keras is a popular deep learning framework and it's easy to get started."
   ]
  },
  {
   "cell_type": "code",
   "execution_count": 4,
   "metadata": {},
   "outputs": [
    {
     "data": {
      "text/plain": [
       "[name: \"/device:CPU:0\"\n",
       " device_type: \"CPU\"\n",
       " memory_limit: 268435456\n",
       " locality {\n",
       " }\n",
       " incarnation: 11380961818509100150,\n",
       " name: \"/device:GPU:0\"\n",
       " device_type: \"GPU\"\n",
       " memory_limit: 1416432435\n",
       " locality {\n",
       "   bus_id: 1\n",
       "   links {\n",
       "   }\n",
       " }\n",
       " incarnation: 6238618082785594727\n",
       " physical_device_desc: \"device: 0, name: GeForce MX150, pci bus id: 0000:01:00.0, compute capability: 6.1\"]"
      ]
     },
     "execution_count": 4,
     "metadata": {},
     "output_type": "execute_result"
    }
   ],
   "source": [
    "import keras\n",
    "from keras.datasets import mnist\n",
    "from keras.models import Sequential\n",
    "from keras.layers import Dense, Dropout, Flatten, Conv2D, MaxPooling2D, BatchNormalization, AveragePooling2D\n",
    "\n",
    "NUM_CLASSES = 10\n",
    "\n",
    "import tensorflow as tf\n",
    "tf.device = '/gpu:0' \n",
    "tf.test.gpu_device_name()\n",
    "from tensorflow.python.client import device_lib\n",
    "device_lib.list_local_devices()"
   ]
  },
  {
   "cell_type": "markdown",
   "metadata": {},
   "source": [
    "First, we read the mnist data and preprocess them."
   ]
  },
  {
   "cell_type": "code",
   "execution_count": 5,
   "metadata": {},
   "outputs": [],
   "source": [
    "# download and load the data (split them between train and test sets)\n",
    "(x_train, y_train), (x_test, y_test) = mnist.load_data()\n",
    "\n",
    "# expand the channel dimension\n",
    "x_train = x_train.reshape(x_train.shape[0], 28, 28, 1)\n",
    "x_test = x_test.reshape(x_test.shape[0], 28, 28, 1)\n",
    "\n",
    "# make the value of pixels from [0, 255] to [0, 1] for further process\n",
    "x_train = x_train.astype('float32') / 255.\n",
    "x_test = x_test.astype('float32') / 255.\n",
    "\n",
    "# convert class vectors to binary class matrics\n",
    "y_train = keras.utils.to_categorical(y_train, NUM_CLASSES)\n",
    "y_test = keras.utils.to_categorical(y_test, NUM_CLASSES)"
   ]
  },
  {
   "cell_type": "code",
   "execution_count": 6,
   "metadata": {},
   "outputs": [
    {
     "name": "stdout",
     "output_type": "stream",
     "text": [
      "(60000, 28, 28, 1)\n"
     ]
    }
   ],
   "source": [
    "print(x_train.shape)"
   ]
  },
  {
   "cell_type": "markdown",
   "metadata": {},
   "source": [
    "Then, we define the model, object function and optimizer that we use to classify."
   ]
  },
  {
   "cell_type": "code",
   "execution_count": 10,
   "metadata": {},
   "outputs": [],
   "source": [
    "# define the model\n",
    "C1, C2 = 16, 64\n",
    "model = Sequential()\n",
    "model.add(BatchNormalization())\n",
    "model.add(Conv2D(C1, (3, 3), padding = 'same', activation='relu'))\n",
    "model.add(Conv2D(C1, (3, 3), padding = 'same', activation='relu'))\n",
    "model.add(Conv2D(C1, (3, 3), padding = 'same', activation='relu'))\n",
    "model.add(AveragePooling2D()) #14 * 14 * 8\n",
    "model.add(BatchNormalization())\n",
    "model.add(Conv2D(C2, (3, 3), padding = 'same', activation='relu'))\n",
    "model.add(Conv2D(C2, (3, 3), padding = 'same', activation='relu'))\n",
    "model.add(Conv2D(C2, (3, 3), padding = 'same', activation='relu'))\n",
    "model.add(AveragePooling2D()) #7 * 7 * 32\n",
    "model.add(Flatten())\n",
    "model.add(BatchNormalization())\n",
    "model.add(Dropout(0.5))\n",
    "model.add(Dense(units=256, activation='relu'))\n",
    "model.add(BatchNormalization())\n",
    "model.add(Dropout(0.5))\n",
    "model.add(Dense(units=64, activation='relu'))\n",
    "model.add(BatchNormalization())\n",
    "model.add(Dropout(0.5))\n",
    "model.add(Dense(units=32, activation='relu'))\n",
    "model.add(Dense(units=10, activation='softmax'))\n",
    "...\n",
    "...\n",
    "...\n",
    "#model.add(...)\n",
    "\n",
    "# define the object function, optimizer and metrics\n",
    "model.compile(loss='categorical_crossentropy',\n",
    "              optimizer='adam',\n",
    "              metrics=['accuracy'])"
   ]
  },
  {
   "cell_type": "markdown",
   "metadata": {},
   "source": [
    "Next, we can start to train and evaluate!"
   ]
  },
  {
   "cell_type": "code",
   "execution_count": 11,
   "metadata": {},
   "outputs": [
    {
     "name": "stdout",
     "output_type": "stream",
     "text": [
      "Epoch 1/20\n",
      "60000/60000 [==============================] - 24s 398us/step - loss: 0.3890 - accuracy: 0.8900\n",
      "Epoch 2/20\n",
      "60000/60000 [==============================] - 23s 387us/step - loss: 0.0931 - accuracy: 0.9741\n",
      "Epoch 3/20\n",
      "60000/60000 [==============================] - 23s 385us/step - loss: 0.0691 - accuracy: 0.9809\n",
      "Epoch 4/20\n",
      "60000/60000 [==============================] - 23s 385us/step - loss: 0.0558 - accuracy: 0.9845\n",
      "Epoch 5/20\n",
      "60000/60000 [==============================] - 23s 383us/step - loss: 0.0500 - accuracy: 0.9860\n",
      "Epoch 6/20\n",
      "60000/60000 [==============================] - 23s 385us/step - loss: 0.0424 - accuracy: 0.9884\n",
      "Epoch 7/20\n",
      "60000/60000 [==============================] - 23s 384us/step - loss: 0.0378 - accuracy: 0.9896\n",
      "Epoch 8/20\n",
      "60000/60000 [==============================] - 23s 384us/step - loss: 0.0373 - accuracy: 0.9898\n",
      "Epoch 9/20\n",
      "60000/60000 [==============================] - 23s 383us/step - loss: 0.0320 - accuracy: 0.9911s - loss: 0.0317 - \n",
      "Epoch 10/20\n",
      "60000/60000 [==============================] - 23s 385us/step - loss: 0.0309 - accuracy: 0.9910\n",
      "Epoch 11/20\n",
      "60000/60000 [==============================] - 23s 383us/step - loss: 0.0282 - accuracy: 0.9919s - loss: 0.0283 - accuracy: 0.\n",
      "Epoch 12/20\n",
      "60000/60000 [==============================] - 23s 383us/step - loss: 0.0280 - accuracy: 0.9917\n",
      "Epoch 13/20\n",
      "60000/60000 [==============================] - 23s 383us/step - loss: 0.0245 - accuracy: 0.9927\n",
      "Epoch 14/20\n",
      "60000/60000 [==============================] - 23s 383us/step - loss: 0.0247 - accuracy: 0.9933\n",
      "Epoch 15/20\n",
      "60000/60000 [==============================] - 23s 383us/step - loss: 0.0239 - accuracy: 0.9930\n",
      "Epoch 16/20\n",
      "60000/60000 [==============================] - 23s 383us/step - loss: 0.0229 - accuracy: 0.9933\n",
      "Epoch 17/20\n",
      "60000/60000 [==============================] - 23s 384us/step - loss: 0.0219 - accuracy: 0.9938\n",
      "Epoch 18/20\n",
      "60000/60000 [==============================] - 23s 385us/step - loss: 0.0210 - accuracy: 0.9939\n",
      "Epoch 19/20\n",
      "60000/60000 [==============================] - 23s 384us/step - loss: 0.0197 - accuracy: 0.9945\n",
      "Epoch 20/20\n",
      "60000/60000 [==============================] - 23s 383us/step - loss: 0.0188 - accuracy: 0.9948s - loss: 0.0189 - accura\n",
      "60000/60000 [==============================] - 14s 226us/step\n",
      "Training loss: 0.0070, Training accuracy: 99.79%\n",
      "10000/10000 [==============================] - 2s 222us/step\n",
      "Testing loss: 0.0158, Testing accuracy: 99.55%\n"
     ]
    }
   ],
   "source": [
    "# train\n",
    "model.fit(x_train, y_train, epochs = 20, batch_size = 256)\n",
    "\n",
    "# evaluate\n",
    "loss_train, score_train = model.evaluate(x_train, y_train)\n",
    "print('Training loss: %.4f, Training accuracy: %.2f%%' % (loss_train ,score_train * 100))\n",
    "loss_test, score_test = model.evaluate(x_test, y_test)\n",
    "print('Testing loss: %.4f, Testing accuracy: %.2f%%' % (loss_test, score_test * 100))"
   ]
  },
  {
   "cell_type": "markdown",
   "metadata": {},
   "source": [
    "#### Q6:\n",
    "Please print the training and testing accuracy."
   ]
  },
  {
   "cell_type": "markdown",
   "metadata": {},
   "source": [
    "Training accuracy: 99.79%\n",
    "Testing accuracy: 99.55%"
   ]
  }
 ],
 "metadata": {
  "kernelspec": {
   "display_name": "Python 3",
   "language": "python",
   "name": "python3"
  },
  "language_info": {
   "codemirror_mode": {
    "name": "ipython",
    "version": 3
   },
   "file_extension": ".py",
   "mimetype": "text/x-python",
   "name": "python",
   "nbconvert_exporter": "python",
   "pygments_lexer": "ipython3",
   "version": "3.7.6"
  }
 },
 "nbformat": 4,
 "nbformat_minor": 2
}
